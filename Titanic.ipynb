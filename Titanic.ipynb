{
  "nbformat": 4,
  "nbformat_minor": 0,
  "metadata": {
    "colab": {
      "name": "Titanic.ipynb",
      "provenance": [],
      "collapsed_sections": [
        "dx34xg5PjAtB"
      ]
    },
    "kernelspec": {
      "name": "python3",
      "display_name": "Python 3"
    },
    "language_info": {
      "name": "python"
    }
  },
  "cells": [
    {
      "cell_type": "markdown",
      "metadata": {
        "id": "dx34xg5PjAtB"
      },
      "source": [
        "# Part 1: Data Dictionary"
      ]
    },
    {
      "cell_type": "markdown",
      "metadata": {
        "id": "PWKKbzFqjE3Y"
      },
      "source": [
        "\n",
        "*   Survival: 0 = No, 1 = Yes\n",
        "*   pclass: Tecket class 1 = 1st, 2 = 2nd, 3 = 3rd\n",
        "*   Sex: Male or Female\n",
        "*   Age: Age in years\n",
        "*   SibSp: No. of Siblings ((step-) brother/sister)/ spouses (husband/ wife)aboard Titanic\n",
        "*   Parch: No of parents/ children aboard the Titanic\n",
        "*   Ticket: Ticket number\n",
        "*   Fare: Passenger Fare\n",
        "*   Cabin: Cabin Number\n",
        "*   Embarked: Port of Embarkation (Cherbourg, Queenstown, Southampton)"
      ]
    },
    {
      "cell_type": "markdown",
      "metadata": {
        "id": "aI2mH9wTj_9_"
      },
      "source": [
        "# Part 2: Importing"
      ]
    },
    {
      "cell_type": "code",
      "metadata": {
        "colab": {
          "base_uri": "https://localhost:8080/"
        },
        "id": "ICorTgCjiYo0",
        "outputId": "52c53e05-6d94-4c31-aec0-3d898ce8846b"
      },
      "source": [
        "import numpy as np\n",
        "import pandas as pd\n",
        "pd.set_option('display.max_columns', None)\n",
        "pd.set_option('display.expand_frame', False)\n",
        "pd.set_option('max_colwidth', -1)\n",
        "import matplotlib.pyplot as plt\n",
        "import seaborn as sns\n",
        "import warnings\n",
        "warnings.filterwarnings('ignore')\n",
        "warnings.filterwarnings('ignore', category = DeprecationWarning)\n",
        "%matplotlib inline"
      ],
      "execution_count": null,
      "outputs": [
        {
          "output_type": "stream",
          "text": [
            "/usr/local/lib/python3.7/dist-packages/ipykernel_launcher.py:5: FutureWarning: Passing a negative integer is deprecated in version 1.0 and will not be supported in future version. Instead, use None to not limit the column width.\n",
            "  \"\"\"\n"
          ],
          "name": "stderr"
        }
      ]
    },
    {
      "cell_type": "code",
      "metadata": {
        "colab": {
          "base_uri": "https://localhost:8080/",
          "height": 204
        },
        "id": "eCDcDMF6kC3b",
        "outputId": "ddf86359-b8ea-443b-af19-f2d16d700217"
      },
      "source": [
        "train = pd.read_excel('titanic_train.xlsx')\n",
        "train.head()"
      ],
      "execution_count": null,
      "outputs": [
        {
          "output_type": "execute_result",
          "data": {
            "text/html": [
              "<div>\n",
              "<style scoped>\n",
              "    .dataframe tbody tr th:only-of-type {\n",
              "        vertical-align: middle;\n",
              "    }\n",
              "\n",
              "    .dataframe tbody tr th {\n",
              "        vertical-align: top;\n",
              "    }\n",
              "\n",
              "    .dataframe thead th {\n",
              "        text-align: right;\n",
              "    }\n",
              "</style>\n",
              "<table border=\"1\" class=\"dataframe\">\n",
              "  <thead>\n",
              "    <tr style=\"text-align: right;\">\n",
              "      <th></th>\n",
              "      <th>PassengerId</th>\n",
              "      <th>Pclass</th>\n",
              "      <th>Name</th>\n",
              "      <th>Sex</th>\n",
              "      <th>Age</th>\n",
              "      <th>SibSp</th>\n",
              "      <th>Parch</th>\n",
              "      <th>Ticket</th>\n",
              "      <th>Fare</th>\n",
              "      <th>Cabin</th>\n",
              "      <th>Embarked</th>\n",
              "      <th>Survived</th>\n",
              "    </tr>\n",
              "  </thead>\n",
              "  <tbody>\n",
              "    <tr>\n",
              "      <th>0</th>\n",
              "      <td>1</td>\n",
              "      <td>3</td>\n",
              "      <td>Braund, Mr. Owen Harris</td>\n",
              "      <td>male</td>\n",
              "      <td>22.0</td>\n",
              "      <td>1</td>\n",
              "      <td>0</td>\n",
              "      <td>A/5 21171</td>\n",
              "      <td>7.2500</td>\n",
              "      <td>NaN</td>\n",
              "      <td>S</td>\n",
              "      <td>0</td>\n",
              "    </tr>\n",
              "    <tr>\n",
              "      <th>1</th>\n",
              "      <td>2</td>\n",
              "      <td>1</td>\n",
              "      <td>Cumings, Mrs. John Bradley (Florence Briggs Thayer)</td>\n",
              "      <td>female</td>\n",
              "      <td>38.0</td>\n",
              "      <td>1</td>\n",
              "      <td>0</td>\n",
              "      <td>PC 17599</td>\n",
              "      <td>71.2833</td>\n",
              "      <td>C</td>\n",
              "      <td>C</td>\n",
              "      <td>1</td>\n",
              "    </tr>\n",
              "    <tr>\n",
              "      <th>2</th>\n",
              "      <td>3</td>\n",
              "      <td>3</td>\n",
              "      <td>Heikkinen, Miss. Laina</td>\n",
              "      <td>female</td>\n",
              "      <td>26.0</td>\n",
              "      <td>0</td>\n",
              "      <td>0</td>\n",
              "      <td>STON/O2. 3101282</td>\n",
              "      <td>7.9250</td>\n",
              "      <td>NaN</td>\n",
              "      <td>S</td>\n",
              "      <td>1</td>\n",
              "    </tr>\n",
              "    <tr>\n",
              "      <th>3</th>\n",
              "      <td>4</td>\n",
              "      <td>1</td>\n",
              "      <td>Futrelle, Mrs. Jacques Heath (Lily May Peel)</td>\n",
              "      <td>female</td>\n",
              "      <td>35.0</td>\n",
              "      <td>1</td>\n",
              "      <td>0</td>\n",
              "      <td>113803</td>\n",
              "      <td>53.1000</td>\n",
              "      <td>C</td>\n",
              "      <td>S</td>\n",
              "      <td>1</td>\n",
              "    </tr>\n",
              "    <tr>\n",
              "      <th>4</th>\n",
              "      <td>5</td>\n",
              "      <td>3</td>\n",
              "      <td>Allen, Mr. William Henry</td>\n",
              "      <td>male</td>\n",
              "      <td>35.0</td>\n",
              "      <td>0</td>\n",
              "      <td>0</td>\n",
              "      <td>373450</td>\n",
              "      <td>8.0500</td>\n",
              "      <td>NaN</td>\n",
              "      <td>S</td>\n",
              "      <td>0</td>\n",
              "    </tr>\n",
              "  </tbody>\n",
              "</table>\n",
              "</div>"
            ],
            "text/plain": [
              "   PassengerId  Pclass                                                 Name     Sex   Age  SibSp  Parch            Ticket     Fare Cabin Embarked  Survived\n",
              "0  1            3       Braund, Mr. Owen Harris                              male    22.0  1      0      A/5 21171         7.2500   NaN   S        0       \n",
              "1  2            1       Cumings, Mrs. John Bradley (Florence Briggs Thayer)  female  38.0  1      0      PC 17599          71.2833  C     C        1       \n",
              "2  3            3       Heikkinen, Miss. Laina                               female  26.0  0      0      STON/O2. 3101282  7.9250   NaN   S        1       \n",
              "3  4            1       Futrelle, Mrs. Jacques Heath (Lily May Peel)         female  35.0  1      0      113803            53.1000  C     S        1       \n",
              "4  5            3       Allen, Mr. William Henry                             male    35.0  0      0      373450            8.0500   NaN   S        0       "
            ]
          },
          "metadata": {
            "tags": []
          },
          "execution_count": 9
        }
      ]
    },
    {
      "cell_type": "code",
      "metadata": {
        "colab": {
          "base_uri": "https://localhost:8080/",
          "height": 204
        },
        "id": "qm2BMKtUkYl9",
        "outputId": "dc2f6582-d9d0-4287-e96c-86ee161facb9"
      },
      "source": [
        "test = pd.read_excel('titanic_test.xlsx')\n",
        "test.head()"
      ],
      "execution_count": null,
      "outputs": [
        {
          "output_type": "execute_result",
          "data": {
            "text/html": [
              "<div>\n",
              "<style scoped>\n",
              "    .dataframe tbody tr th:only-of-type {\n",
              "        vertical-align: middle;\n",
              "    }\n",
              "\n",
              "    .dataframe tbody tr th {\n",
              "        vertical-align: top;\n",
              "    }\n",
              "\n",
              "    .dataframe thead th {\n",
              "        text-align: right;\n",
              "    }\n",
              "</style>\n",
              "<table border=\"1\" class=\"dataframe\">\n",
              "  <thead>\n",
              "    <tr style=\"text-align: right;\">\n",
              "      <th></th>\n",
              "      <th>PassengerId</th>\n",
              "      <th>Pclass</th>\n",
              "      <th>Name</th>\n",
              "      <th>Sex</th>\n",
              "      <th>Age</th>\n",
              "      <th>SibSp</th>\n",
              "      <th>Parch</th>\n",
              "      <th>Ticket</th>\n",
              "      <th>Fare</th>\n",
              "      <th>Cabin</th>\n",
              "      <th>Embarked</th>\n",
              "      <th>Survived</th>\n",
              "    </tr>\n",
              "  </thead>\n",
              "  <tbody>\n",
              "    <tr>\n",
              "      <th>0</th>\n",
              "      <td>892</td>\n",
              "      <td>3</td>\n",
              "      <td>Kelly, Mr. James</td>\n",
              "      <td>male</td>\n",
              "      <td>34.5</td>\n",
              "      <td>0</td>\n",
              "      <td>0</td>\n",
              "      <td>330911</td>\n",
              "      <td>7.8292</td>\n",
              "      <td>NaN</td>\n",
              "      <td>Q</td>\n",
              "      <td>0</td>\n",
              "    </tr>\n",
              "    <tr>\n",
              "      <th>1</th>\n",
              "      <td>893</td>\n",
              "      <td>3</td>\n",
              "      <td>Wilkes, Mrs. James (Ellen Needs)</td>\n",
              "      <td>female</td>\n",
              "      <td>47.0</td>\n",
              "      <td>1</td>\n",
              "      <td>0</td>\n",
              "      <td>363272</td>\n",
              "      <td>7.0000</td>\n",
              "      <td>NaN</td>\n",
              "      <td>S</td>\n",
              "      <td>1</td>\n",
              "    </tr>\n",
              "    <tr>\n",
              "      <th>2</th>\n",
              "      <td>894</td>\n",
              "      <td>2</td>\n",
              "      <td>Myles, Mr. Thomas Francis</td>\n",
              "      <td>male</td>\n",
              "      <td>62.0</td>\n",
              "      <td>0</td>\n",
              "      <td>0</td>\n",
              "      <td>240276</td>\n",
              "      <td>9.6875</td>\n",
              "      <td>NaN</td>\n",
              "      <td>Q</td>\n",
              "      <td>0</td>\n",
              "    </tr>\n",
              "    <tr>\n",
              "      <th>3</th>\n",
              "      <td>895</td>\n",
              "      <td>3</td>\n",
              "      <td>Wirz, Mr. Albert</td>\n",
              "      <td>male</td>\n",
              "      <td>27.0</td>\n",
              "      <td>0</td>\n",
              "      <td>0</td>\n",
              "      <td>315154</td>\n",
              "      <td>8.6625</td>\n",
              "      <td>NaN</td>\n",
              "      <td>S</td>\n",
              "      <td>0</td>\n",
              "    </tr>\n",
              "    <tr>\n",
              "      <th>4</th>\n",
              "      <td>896</td>\n",
              "      <td>3</td>\n",
              "      <td>Hirvonen, Mrs. Alexander (Helga E Lindqvist)</td>\n",
              "      <td>female</td>\n",
              "      <td>22.0</td>\n",
              "      <td>1</td>\n",
              "      <td>1</td>\n",
              "      <td>3101298</td>\n",
              "      <td>12.2875</td>\n",
              "      <td>NaN</td>\n",
              "      <td>S</td>\n",
              "      <td>1</td>\n",
              "    </tr>\n",
              "  </tbody>\n",
              "</table>\n",
              "</div>"
            ],
            "text/plain": [
              "   PassengerId  Pclass                                          Name     Sex   Age  SibSp  Parch   Ticket     Fare Cabin Embarked  Survived\n",
              "0  892          3       Kelly, Mr. James                              male    34.5  0      0      330911   7.8292   NaN   Q        0       \n",
              "1  893          3       Wilkes, Mrs. James (Ellen Needs)              female  47.0  1      0      363272   7.0000   NaN   S        1       \n",
              "2  894          2       Myles, Mr. Thomas Francis                     male    62.0  0      0      240276   9.6875   NaN   Q        0       \n",
              "3  895          3       Wirz, Mr. Albert                              male    27.0  0      0      315154   8.6625   NaN   S        0       \n",
              "4  896          3       Hirvonen, Mrs. Alexander (Helga E Lindqvist)  female  22.0  1      1      3101298  12.2875  NaN   S        1       "
            ]
          },
          "metadata": {
            "tags": []
          },
          "execution_count": 10
        }
      ]
    },
    {
      "cell_type": "code",
      "metadata": {
        "colab": {
          "base_uri": "https://localhost:8080/"
        },
        "id": "bP8GS2KYkcuz",
        "outputId": "48b6e818-fe42-46d9-e9c7-60bcd1ad71b2"
      },
      "source": [
        "train.info()"
      ],
      "execution_count": null,
      "outputs": [
        {
          "output_type": "stream",
          "text": [
            "<class 'pandas.core.frame.DataFrame'>\n",
            "RangeIndex: 891 entries, 0 to 890\n",
            "Data columns (total 12 columns):\n",
            " #   Column       Non-Null Count  Dtype  \n",
            "---  ------       --------------  -----  \n",
            " 0   PassengerId  891 non-null    int64  \n",
            " 1   Survived     891 non-null    int64  \n",
            " 2   Pclass       891 non-null    int64  \n",
            " 3   Name         891 non-null    object \n",
            " 4   Sex          891 non-null    object \n",
            " 5   Age          887 non-null    float64\n",
            " 6   SibSp        891 non-null    int64  \n",
            " 7   Parch        891 non-null    int64  \n",
            " 8   Ticket       891 non-null    object \n",
            " 9   Fare         891 non-null    float64\n",
            " 10  Cabin        204 non-null    object \n",
            " 11  Embarked     891 non-null    object \n",
            "dtypes: float64(2), int64(5), object(5)\n",
            "memory usage: 83.7+ KB\n"
          ],
          "name": "stdout"
        }
      ]
    },
    {
      "cell_type": "code",
      "metadata": {
        "colab": {
          "base_uri": "https://localhost:8080/"
        },
        "id": "cpvFLWN7kena",
        "outputId": "51dbbf98-aae5-4c8a-f72e-06b44becbb8c"
      },
      "source": [
        "train.isna().mean().round(4)*100"
      ],
      "execution_count": null,
      "outputs": [
        {
          "output_type": "execute_result",
          "data": {
            "text/plain": [
              "PassengerId    0.00 \n",
              "Survived       0.00 \n",
              "Pclass         0.00 \n",
              "Name           0.00 \n",
              "Sex            0.00 \n",
              "Age            0.45 \n",
              "SibSp          0.00 \n",
              "Parch          0.00 \n",
              "Ticket         0.00 \n",
              "Fare           0.00 \n",
              "Cabin          77.10\n",
              "Embarked       0.00 \n",
              "dtype: float64"
            ]
          },
          "metadata": {
            "tags": []
          },
          "execution_count": 5
        }
      ]
    },
    {
      "cell_type": "code",
      "metadata": {
        "colab": {
          "base_uri": "https://localhost:8080/",
          "height": 297
        },
        "id": "eUxyObVrkkoU",
        "outputId": "b6d25427-58a6-4fa5-d759-9d7d234e510a"
      },
      "source": [
        "train.describe()"
      ],
      "execution_count": null,
      "outputs": [
        {
          "output_type": "execute_result",
          "data": {
            "text/html": [
              "<div>\n",
              "<style scoped>\n",
              "    .dataframe tbody tr th:only-of-type {\n",
              "        vertical-align: middle;\n",
              "    }\n",
              "\n",
              "    .dataframe tbody tr th {\n",
              "        vertical-align: top;\n",
              "    }\n",
              "\n",
              "    .dataframe thead th {\n",
              "        text-align: right;\n",
              "    }\n",
              "</style>\n",
              "<table border=\"1\" class=\"dataframe\">\n",
              "  <thead>\n",
              "    <tr style=\"text-align: right;\">\n",
              "      <th></th>\n",
              "      <th>PassengerId</th>\n",
              "      <th>Survived</th>\n",
              "      <th>Pclass</th>\n",
              "      <th>Age</th>\n",
              "      <th>SibSp</th>\n",
              "      <th>Parch</th>\n",
              "      <th>Fare</th>\n",
              "    </tr>\n",
              "  </thead>\n",
              "  <tbody>\n",
              "    <tr>\n",
              "      <th>count</th>\n",
              "      <td>891.000000</td>\n",
              "      <td>891.000000</td>\n",
              "      <td>891.000000</td>\n",
              "      <td>887.000000</td>\n",
              "      <td>891.000000</td>\n",
              "      <td>891.000000</td>\n",
              "      <td>891.000000</td>\n",
              "    </tr>\n",
              "    <tr>\n",
              "      <th>mean</th>\n",
              "      <td>446.000000</td>\n",
              "      <td>0.383838</td>\n",
              "      <td>2.308642</td>\n",
              "      <td>29.362649</td>\n",
              "      <td>0.523008</td>\n",
              "      <td>0.381594</td>\n",
              "      <td>32.204208</td>\n",
              "    </tr>\n",
              "    <tr>\n",
              "      <th>std</th>\n",
              "      <td>257.353842</td>\n",
              "      <td>0.486592</td>\n",
              "      <td>0.836071</td>\n",
              "      <td>14.129009</td>\n",
              "      <td>1.102743</td>\n",
              "      <td>0.806057</td>\n",
              "      <td>49.693429</td>\n",
              "    </tr>\n",
              "    <tr>\n",
              "      <th>min</th>\n",
              "      <td>1.000000</td>\n",
              "      <td>0.000000</td>\n",
              "      <td>1.000000</td>\n",
              "      <td>0.000000</td>\n",
              "      <td>0.000000</td>\n",
              "      <td>0.000000</td>\n",
              "      <td>0.000000</td>\n",
              "    </tr>\n",
              "    <tr>\n",
              "      <th>25%</th>\n",
              "      <td>223.500000</td>\n",
              "      <td>0.000000</td>\n",
              "      <td>2.000000</td>\n",
              "      <td>20.000000</td>\n",
              "      <td>0.000000</td>\n",
              "      <td>0.000000</td>\n",
              "      <td>7.910400</td>\n",
              "    </tr>\n",
              "    <tr>\n",
              "      <th>50%</th>\n",
              "      <td>446.000000</td>\n",
              "      <td>0.000000</td>\n",
              "      <td>3.000000</td>\n",
              "      <td>28.000000</td>\n",
              "      <td>0.000000</td>\n",
              "      <td>0.000000</td>\n",
              "      <td>14.454200</td>\n",
              "    </tr>\n",
              "    <tr>\n",
              "      <th>75%</th>\n",
              "      <td>668.500000</td>\n",
              "      <td>1.000000</td>\n",
              "      <td>3.000000</td>\n",
              "      <td>38.000000</td>\n",
              "      <td>1.000000</td>\n",
              "      <td>0.000000</td>\n",
              "      <td>31.000000</td>\n",
              "    </tr>\n",
              "    <tr>\n",
              "      <th>max</th>\n",
              "      <td>891.000000</td>\n",
              "      <td>1.000000</td>\n",
              "      <td>3.000000</td>\n",
              "      <td>80.000000</td>\n",
              "      <td>8.000000</td>\n",
              "      <td>6.000000</td>\n",
              "      <td>512.329200</td>\n",
              "    </tr>\n",
              "  </tbody>\n",
              "</table>\n",
              "</div>"
            ],
            "text/plain": [
              "       PassengerId    Survived      Pclass         Age       SibSp       Parch        Fare\n",
              "count  891.000000   891.000000  891.000000  887.000000  891.000000  891.000000  891.000000\n",
              "mean   446.000000   0.383838    2.308642    29.362649   0.523008    0.381594    32.204208 \n",
              "std    257.353842   0.486592    0.836071    14.129009   1.102743    0.806057    49.693429 \n",
              "min    1.000000     0.000000    1.000000    0.000000    0.000000    0.000000    0.000000  \n",
              "25%    223.500000   0.000000    2.000000    20.000000   0.000000    0.000000    7.910400  \n",
              "50%    446.000000   0.000000    3.000000    28.000000   0.000000    0.000000    14.454200 \n",
              "75%    668.500000   1.000000    3.000000    38.000000   1.000000    0.000000    31.000000 \n",
              "max    891.000000   1.000000    3.000000    80.000000   8.000000    6.000000    512.329200"
            ]
          },
          "metadata": {
            "tags": []
          },
          "execution_count": 6
        }
      ]
    },
    {
      "cell_type": "code",
      "metadata": {
        "colab": {
          "base_uri": "https://localhost:8080/",
          "height": 269
        },
        "id": "wGpNW8pektIj",
        "outputId": "de37d650-17bb-447d-80cc-4c8ea032c23f"
      },
      "source": [
        "heatmap = sns.heatmap(train[['Survived', 'SibSp', 'Parch', 'Age', 'Fare']].corr(), annot=True, cmap = \"coolwarm\")"
      ],
      "execution_count": null,
      "outputs": [
        {
          "output_type": "display_data",
          "data": {
            "image/png": "[encoded data removed]",
            "text/plain": [
              "<Figure size 432x288 with 2 Axes>"
            ]
          },
          "metadata": {
            "tags": [],
            "needs_background": "light"
          }
        }
      ]
    },
    {
      "cell_type": "markdown",
      "metadata": {
        "id": "0b8g6K0MkKCW"
      },
      "source": [
        "# Part 3: Cleaning Data"
      ]
    },
    {
      "cell_type": "code",
      "metadata": {
        "colab": {
          "base_uri": "https://localhost:8080/",
          "height": 204
        },
        "id": "SdW4vDY4kMSQ",
        "outputId": "3da88cbe-172b-45e6-bfb0-6d24260254cb"
      },
      "source": [
        "frames = [train, test]\n",
        "titanic = pd.concat(frames)\n",
        "titanic.head()"
      ],
      "execution_count": null,
      "outputs": [
        {
          "output_type": "execute_result",
          "data": {
            "text/html": [
              "<div>\n",
              "<style scoped>\n",
              "    .dataframe tbody tr th:only-of-type {\n",
              "        vertical-align: middle;\n",
              "    }\n",
              "\n",
              "    .dataframe tbody tr th {\n",
              "        vertical-align: top;\n",
              "    }\n",
              "\n",
              "    .dataframe thead th {\n",
              "        text-align: right;\n",
              "    }\n",
              "</style>\n",
              "<table border=\"1\" class=\"dataframe\">\n",
              "  <thead>\n",
              "    <tr style=\"text-align: right;\">\n",
              "      <th></th>\n",
              "      <th>PassengerId</th>\n",
              "      <th>Pclass</th>\n",
              "      <th>Name</th>\n",
              "      <th>Sex</th>\n",
              "      <th>Age</th>\n",
              "      <th>SibSp</th>\n",
              "      <th>Parch</th>\n",
              "      <th>Ticket</th>\n",
              "      <th>Fare</th>\n",
              "      <th>Cabin</th>\n",
              "      <th>Embarked</th>\n",
              "      <th>Survived</th>\n",
              "    </tr>\n",
              "  </thead>\n",
              "  <tbody>\n",
              "    <tr>\n",
              "      <th>0</th>\n",
              "      <td>1</td>\n",
              "      <td>3</td>\n",
              "      <td>Braund, Mr. Owen Harris</td>\n",
              "      <td>male</td>\n",
              "      <td>22.0</td>\n",
              "      <td>1</td>\n",
              "      <td>0</td>\n",
              "      <td>A/5 21171</td>\n",
              "      <td>7.2500</td>\n",
              "      <td>NaN</td>\n",
              "      <td>S</td>\n",
              "      <td>0</td>\n",
              "    </tr>\n",
              "    <tr>\n",
              "      <th>1</th>\n",
              "      <td>2</td>\n",
              "      <td>1</td>\n",
              "      <td>Cumings, Mrs. John Bradley (Florence Briggs Thayer)</td>\n",
              "      <td>female</td>\n",
              "      <td>38.0</td>\n",
              "      <td>1</td>\n",
              "      <td>0</td>\n",
              "      <td>PC 17599</td>\n",
              "      <td>71.2833</td>\n",
              "      <td>C</td>\n",
              "      <td>C</td>\n",
              "      <td>1</td>\n",
              "    </tr>\n",
              "    <tr>\n",
              "      <th>2</th>\n",
              "      <td>3</td>\n",
              "      <td>3</td>\n",
              "      <td>Heikkinen, Miss. Laina</td>\n",
              "      <td>female</td>\n",
              "      <td>26.0</td>\n",
              "      <td>0</td>\n",
              "      <td>0</td>\n",
              "      <td>STON/O2. 3101282</td>\n",
              "      <td>7.9250</td>\n",
              "      <td>NaN</td>\n",
              "      <td>S</td>\n",
              "      <td>1</td>\n",
              "    </tr>\n",
              "    <tr>\n",
              "      <th>3</th>\n",
              "      <td>4</td>\n",
              "      <td>1</td>\n",
              "      <td>Futrelle, Mrs. Jacques Heath (Lily May Peel)</td>\n",
              "      <td>female</td>\n",
              "      <td>35.0</td>\n",
              "      <td>1</td>\n",
              "      <td>0</td>\n",
              "      <td>113803</td>\n",
              "      <td>53.1000</td>\n",
              "      <td>C</td>\n",
              "      <td>S</td>\n",
              "      <td>1</td>\n",
              "    </tr>\n",
              "    <tr>\n",
              "      <th>4</th>\n",
              "      <td>5</td>\n",
              "      <td>3</td>\n",
              "      <td>Allen, Mr. William Henry</td>\n",
              "      <td>male</td>\n",
              "      <td>35.0</td>\n",
              "      <td>0</td>\n",
              "      <td>0</td>\n",
              "      <td>373450</td>\n",
              "      <td>8.0500</td>\n",
              "      <td>NaN</td>\n",
              "      <td>S</td>\n",
              "      <td>0</td>\n",
              "    </tr>\n",
              "  </tbody>\n",
              "</table>\n",
              "</div>"
            ],
            "text/plain": [
              "   PassengerId  Pclass                                                 Name     Sex   Age  SibSp  Parch            Ticket     Fare Cabin Embarked  Survived\n",
              "0  1            3       Braund, Mr. Owen Harris                              male    22.0  1      0      A/5 21171         7.2500   NaN   S        0       \n",
              "1  2            1       Cumings, Mrs. John Bradley (Florence Briggs Thayer)  female  38.0  1      0      PC 17599          71.2833  C     C        1       \n",
              "2  3            3       Heikkinen, Miss. Laina                               female  26.0  0      0      STON/O2. 3101282  7.9250   NaN   S        1       \n",
              "3  4            1       Futrelle, Mrs. Jacques Heath (Lily May Peel)         female  35.0  1      0      113803            53.1000  C     S        1       \n",
              "4  5            3       Allen, Mr. William Henry                             male    35.0  0      0      373450            8.0500   NaN   S        0       "
            ]
          },
          "metadata": {
            "tags": []
          },
          "execution_count": 11
        }
      ]
    },
    {
      "cell_type": "code",
      "metadata": {
        "colab": {
          "base_uri": "https://localhost:8080/"
        },
        "id": "orxYts9ok5wI",
        "outputId": "f891eb81-c793-473b-fec5-43548a6cd12b"
      },
      "source": [
        "titanic.groupby('Pclass').Fare.mean()"
      ],
      "execution_count": null,
      "outputs": [
        {
          "output_type": "execute_result",
          "data": {
            "text/plain": [
              "Pclass\n",
              "1    87.508992\n",
              "2    21.179196\n",
              "3    13.302889\n",
              "Name: Fare, dtype: float64"
            ]
          },
          "metadata": {
            "tags": []
          },
          "execution_count": 13
        }
      ]
    },
    {
      "cell_type": "code",
      "metadata": {
        "id": "gUXlvyeBk5sW"
      },
      "source": [
        "titanic.Fare = titanic.Fare.fillna(0)"
      ],
      "execution_count": null,
      "outputs": []
    },
    {
      "cell_type": "code",
      "metadata": {
        "colab": {
          "base_uri": "https://localhost:8080/"
        },
        "id": "e5Yi1cpAk5pu",
        "outputId": "64dbfb2e-bf19-482c-adc7-9d6a068b8adf"
      },
      "source": [
        "# Fill empty \"Embarked\" cells with \"S\"\n",
        "\n",
        "print(titanic.Embarked.value_counts())\n",
        "titanic.Embarked = titanic.Embarked.fillna(\"S\")"
      ],
      "execution_count": null,
      "outputs": [
        {
          "output_type": "stream",
          "text": [
            "S    916\n",
            "C    270\n",
            "Q    123\n",
            "Name: Embarked, dtype: int64\n"
          ],
          "name": "stdout"
        }
      ]
    },
    {
      "cell_type": "code",
      "metadata": {
        "colab": {
          "base_uri": "https://localhost:8080/"
        },
        "id": "LlecYRKRk5nR",
        "outputId": "e60096ff-336e-4c6a-a369-e5b1f2e3a3c0"
      },
      "source": [
        "titanic.Cabin = titanic.Cabin.fillna('Unknown_Cabin')\n",
        "titanic['Cabin'] = titanic['Cabin'].str[0]\n",
        "titanic.groupby('Pclass').Cabin.value_counts()"
      ],
      "execution_count": null,
      "outputs": [
        {
          "output_type": "execute_result",
          "data": {
            "text/plain": [
              "Pclass  Cabin\n",
              "1       C        94 \n",
              "        U        67 \n",
              "        B        65 \n",
              "        D        40 \n",
              "        E        34 \n",
              "        A        22 \n",
              "        T        1  \n",
              "2       U        254\n",
              "        F        13 \n",
              "        D        6  \n",
              "        E        4  \n",
              "3       U        693\n",
              "        F        8  \n",
              "        G        5  \n",
              "        E        3  \n",
              "Name: Cabin, dtype: int64"
            ]
          },
          "metadata": {
            "tags": []
          },
          "execution_count": 16
        }
      ]
    },
    {
      "cell_type": "code",
      "metadata": {
        "id": "6i2ajwYKk5kk"
      },
      "source": [
        "titanic['Cabin'] = np.where((titanic.Pclass==1) & (titanic.Cabin=='U'), 'C',\n",
        "                            np.where((titanic.Pclass==2) & (titanic.Cabin=='U'), 'D',\n",
        "                                     np.where((titanic.Pclass==3)& (titanic.Cabin=='U'), 'G',\n",
        "                                              np.where(titanic.Cabin=='T','C',titanic.Cabin))))"
      ],
      "execution_count": null,
      "outputs": []
    },
    {
      "cell_type": "code",
      "metadata": {
        "id": "nYJJplsjk5h8"
      },
      "source": [
        "titanic['Title'] = titanic.Name.str.extract('([A-Za-z]+)\\.',expand=False)\n",
        "\n",
        "pd.crosstab(titanic['Title'],titanic['Sex'])\n",
        "titanic = titanic.drop('Name', axis=1)"
      ],
      "execution_count": null,
      "outputs": []
    },
    {
      "cell_type": "code",
      "metadata": {
        "id": "TBXgslP2k5Nc"
      },
      "source": [
        "# Let's replace and fix a few titles\n",
        "\n",
        "titanic['Title'] = np.where((titanic.Title=='Capt') | (titanic.Title=='Countess') | (titanic.Title=='Don') |(titanic.Title=='Dona') |\n",
        "                            (titanic.Title=='Jonkheer') |(titanic.Title=='Lady') |(titanic.Title=='Sir') |(titanic.Title=='Major') |\n",
        "                            (titanic.Title=='Rev') |(titanic.Title=='Col'), 'Other', titanic.Title)\n",
        "\n",
        "titanic['Title'] = titanic['Title'].replace('Ms', 'Miss')\n",
        "titanic['Title'] = titanic['Title'].replace('Mlle', 'Miss')\n",
        "titanic['Title'] = titanic['Title'].replace('Mme', 'Mrs')"
      ],
      "execution_count": null,
      "outputs": []
    },
    {
      "cell_type": "code",
      "metadata": {
        "colab": {
          "base_uri": "https://localhost:8080/",
          "height": 333
        },
        "id": "fUKLLC83nDyD",
        "outputId": "0b45772e-2b4f-424f-ab54-ec4e40e532dd"
      },
      "source": [
        "titanic[['Title','Survived']].groupby(['Title'], as_index=False).mean()\n",
        "facet = sns.FacetGrid(data=titanic, hue=\"Title\", legend_out=True, size = 4.5)\n",
        "facet = facet.map(sns.kdeplot, \"Age\")\n",
        "facet.add_legend();"
      ],
      "execution_count": null,
      "outputs": [
        {
          "output_type": "display_data",
          "data": {
            "image/png": "[encoded data removed]",
            "text/plain": [
              "<Figure size 394.125x324 with 1 Axes>"
            ]
          },
          "metadata": {
            "tags": [],
            "needs_background": "light"
          }
        }
      ]
    },
    {
      "cell_type": "code",
      "metadata": {
        "colab": {
          "base_uri": "https://localhost:8080/",
          "height": 242
        },
        "id": "1pPW6QFmoMWF",
        "outputId": "104160e6-8093-42e8-a377-948f0e3b560d"
      },
      "source": [
        "fcet = sns.FacetGrid(titanic, hue='Survived', aspect=3)\n",
        "facet.map(sns.kdeplot, 'Age', shade=True)\n",
        "facet.set(xlim=(0, titanic['Age'].max()))\n",
        "facet.add_legend()"
      ],
      "execution_count": null,
      "outputs": [
        {
          "output_type": "execute_result",
          "data": {
            "text/plain": [
              "<seaborn.axisgrid.FacetGrid at 0x7f3721c02950>"
            ]
          },
          "metadata": {
            "tags": []
          },
          "execution_count": 24
        },
        {
          "output_type": "display_data",
          "data": {
            "image/png": "[encoded data removed]",
            "text/plain": [
              "<Figure size 648x216 with 1 Axes>"
            ]
          },
          "metadata": {
            "tags": [],
            "needs_background": "light"
          }
        }
      ]
    },
    {
      "cell_type": "code",
      "metadata": {
        "id": "aBO6472unDur"
      },
      "source": [
        "titanic['Age'] = np.where((titanic.Age.isnull()) & (titanic.Title=='Master'), 5,\n",
        "                            np.where((titanic.Age.isnull()) & (titanic.Title=='Miss'), 22,\n",
        "                                     np.where((titanic.Age.isnull()) & (titanic.Title=='Mr'), 32,\n",
        "                                              np.where((titanic.Age.isnull()) & (titanic.Title=='Mrs'), 37,\n",
        "                                                       np.where((titanic.Age.isnull()) & (titanic.Title=='Other'), 45,\n",
        "                                                                np.where((titanic.Age.isnull()) & (titanic.Title=='Dr'), 44, titanic.Age))))))"
      ],
      "execution_count": null,
      "outputs": []
    },
    {
      "cell_type": "code",
      "metadata": {
        "id": "2H4kJAeunDsx"
      },
      "source": [
        "titanic['FamilySize'] = titanic.SibSp + titanic.Parch + 1\n",
        "titanic['Mother'] = np.where((titanic.Title=='Mrs') & (titanic.Parch > 0), 1, 0)\n",
        "titanic['Free'] = np.where(titanic['Fare']==0,1,0)\n",
        "titanic = titanic.drop(['SibSp', 'Parch', 'Sex', 'Ticket', 'PassengerId'], axis=1)"
      ],
      "execution_count": null,
      "outputs": []
    },
    {
      "cell_type": "code",
      "metadata": {
        "id": "IdRvAwHyplHj"
      },
      "source": [
        "bins = [0, 12, 24, 45, 60, titanic.Age.max()]\n",
        "labels = ['Child', 'Young Adult', 'Adult', 'Older Adult', 'Senior']\n",
        "titanic[\"Age\"] = pd.cut(titanic['Age'], bins, labels = labels)"
      ],
      "execution_count": null,
      "outputs": []
    },
    {
      "cell_type": "code",
      "metadata": {
        "id": "LVnRKaH4nDpM"
      },
      "source": [
        "titanic = pd.get_dummies(titanic)"
      ],
      "execution_count": null,
      "outputs": []
    },
    {
      "cell_type": "code",
      "metadata": {
        "id": "SFoYqW8BnDm1"
      },
      "source": [
        "# Apply log to Fare to reduce distribution skew\n",
        "\n",
        "titanic['Fare'] = titanic['Fare'].map(lambda i: np.log(i) if i>0 else 0)"
      ],
      "execution_count": null,
      "outputs": []
    },
    {
      "cell_type": "code",
      "metadata": {
        "colab": {
          "base_uri": "https://localhost:8080/",
          "height": 241
        },
        "id": "Y3w8VQ7onDjr",
        "outputId": "b307c3c1-075d-4575-b856-4ce711b0e960"
      },
      "source": [
        "titanic.head()"
      ],
      "execution_count": null,
      "outputs": [
        {
          "output_type": "execute_result",
          "data": {
            "text/html": [
              "<div>\n",
              "<style scoped>\n",
              "    .dataframe tbody tr th:only-of-type {\n",
              "        vertical-align: middle;\n",
              "    }\n",
              "\n",
              "    .dataframe tbody tr th {\n",
              "        vertical-align: top;\n",
              "    }\n",
              "\n",
              "    .dataframe thead th {\n",
              "        text-align: right;\n",
              "    }\n",
              "</style>\n",
              "<table border=\"1\" class=\"dataframe\">\n",
              "  <thead>\n",
              "    <tr style=\"text-align: right;\">\n",
              "      <th></th>\n",
              "      <th>Pclass</th>\n",
              "      <th>Fare</th>\n",
              "      <th>Survived</th>\n",
              "      <th>FamilySize</th>\n",
              "      <th>Mother</th>\n",
              "      <th>Free</th>\n",
              "      <th>Age_Child</th>\n",
              "      <th>Age_Young Adult</th>\n",
              "      <th>Age_Adult</th>\n",
              "      <th>Age_Older Adult</th>\n",
              "      <th>Age_Senior</th>\n",
              "      <th>Cabin_A</th>\n",
              "      <th>Cabin_B</th>\n",
              "      <th>Cabin_C</th>\n",
              "      <th>Cabin_D</th>\n",
              "      <th>Cabin_E</th>\n",
              "      <th>Cabin_F</th>\n",
              "      <th>Cabin_G</th>\n",
              "      <th>Embarked_C</th>\n",
              "      <th>Embarked_Q</th>\n",
              "      <th>Embarked_S</th>\n",
              "      <th>Title_Dr</th>\n",
              "      <th>Title_Master</th>\n",
              "      <th>Title_Miss</th>\n",
              "      <th>Title_Mr</th>\n",
              "      <th>Title_Mrs</th>\n",
              "      <th>Title_Other</th>\n",
              "    </tr>\n",
              "  </thead>\n",
              "  <tbody>\n",
              "    <tr>\n",
              "      <th>0</th>\n",
              "      <td>3</td>\n",
              "      <td>1.981001</td>\n",
              "      <td>0</td>\n",
              "      <td>2</td>\n",
              "      <td>0</td>\n",
              "      <td>0</td>\n",
              "      <td>0</td>\n",
              "      <td>1</td>\n",
              "      <td>0</td>\n",
              "      <td>0</td>\n",
              "      <td>0</td>\n",
              "      <td>0</td>\n",
              "      <td>0</td>\n",
              "      <td>0</td>\n",
              "      <td>0</td>\n",
              "      <td>0</td>\n",
              "      <td>0</td>\n",
              "      <td>1</td>\n",
              "      <td>0</td>\n",
              "      <td>0</td>\n",
              "      <td>1</td>\n",
              "      <td>0</td>\n",
              "      <td>0</td>\n",
              "      <td>0</td>\n",
              "      <td>1</td>\n",
              "      <td>0</td>\n",
              "      <td>0</td>\n",
              "    </tr>\n",
              "    <tr>\n",
              "      <th>1</th>\n",
              "      <td>1</td>\n",
              "      <td>4.266662</td>\n",
              "      <td>1</td>\n",
              "      <td>2</td>\n",
              "      <td>0</td>\n",
              "      <td>0</td>\n",
              "      <td>0</td>\n",
              "      <td>0</td>\n",
              "      <td>1</td>\n",
              "      <td>0</td>\n",
              "      <td>0</td>\n",
              "      <td>0</td>\n",
              "      <td>0</td>\n",
              "      <td>1</td>\n",
              "      <td>0</td>\n",
              "      <td>0</td>\n",
              "      <td>0</td>\n",
              "      <td>0</td>\n",
              "      <td>1</td>\n",
              "      <td>0</td>\n",
              "      <td>0</td>\n",
              "      <td>0</td>\n",
              "      <td>0</td>\n",
              "      <td>0</td>\n",
              "      <td>0</td>\n",
              "      <td>1</td>\n",
              "      <td>0</td>\n",
              "    </tr>\n",
              "    <tr>\n",
              "      <th>2</th>\n",
              "      <td>3</td>\n",
              "      <td>2.070022</td>\n",
              "      <td>1</td>\n",
              "      <td>1</td>\n",
              "      <td>0</td>\n",
              "      <td>0</td>\n",
              "      <td>0</td>\n",
              "      <td>0</td>\n",
              "      <td>1</td>\n",
              "      <td>0</td>\n",
              "      <td>0</td>\n",
              "      <td>0</td>\n",
              "      <td>0</td>\n",
              "      <td>0</td>\n",
              "      <td>0</td>\n",
              "      <td>0</td>\n",
              "      <td>0</td>\n",
              "      <td>1</td>\n",
              "      <td>0</td>\n",
              "      <td>0</td>\n",
              "      <td>1</td>\n",
              "      <td>0</td>\n",
              "      <td>0</td>\n",
              "      <td>1</td>\n",
              "      <td>0</td>\n",
              "      <td>0</td>\n",
              "      <td>0</td>\n",
              "    </tr>\n",
              "    <tr>\n",
              "      <th>3</th>\n",
              "      <td>1</td>\n",
              "      <td>3.972177</td>\n",
              "      <td>1</td>\n",
              "      <td>2</td>\n",
              "      <td>0</td>\n",
              "      <td>0</td>\n",
              "      <td>0</td>\n",
              "      <td>0</td>\n",
              "      <td>1</td>\n",
              "      <td>0</td>\n",
              "      <td>0</td>\n",
              "      <td>0</td>\n",
              "      <td>0</td>\n",
              "      <td>1</td>\n",
              "      <td>0</td>\n",
              "      <td>0</td>\n",
              "      <td>0</td>\n",
              "      <td>0</td>\n",
              "      <td>0</td>\n",
              "      <td>0</td>\n",
              "      <td>1</td>\n",
              "      <td>0</td>\n",
              "      <td>0</td>\n",
              "      <td>0</td>\n",
              "      <td>0</td>\n",
              "      <td>1</td>\n",
              "      <td>0</td>\n",
              "    </tr>\n",
              "    <tr>\n",
              "      <th>4</th>\n",
              "      <td>3</td>\n",
              "      <td>2.085672</td>\n",
              "      <td>0</td>\n",
              "      <td>1</td>\n",
              "      <td>0</td>\n",
              "      <td>0</td>\n",
              "      <td>0</td>\n",
              "      <td>0</td>\n",
              "      <td>1</td>\n",
              "      <td>0</td>\n",
              "      <td>0</td>\n",
              "      <td>0</td>\n",
              "      <td>0</td>\n",
              "      <td>0</td>\n",
              "      <td>0</td>\n",
              "      <td>0</td>\n",
              "      <td>0</td>\n",
              "      <td>1</td>\n",
              "      <td>0</td>\n",
              "      <td>0</td>\n",
              "      <td>1</td>\n",
              "      <td>0</td>\n",
              "      <td>0</td>\n",
              "      <td>0</td>\n",
              "      <td>1</td>\n",
              "      <td>0</td>\n",
              "      <td>0</td>\n",
              "    </tr>\n",
              "  </tbody>\n",
              "</table>\n",
              "</div>"
            ],
            "text/plain": [
              "   Pclass      Fare  Survived  FamilySize  Mother  Free  Age_Child  Age_Young Adult  Age_Adult  Age_Older Adult  Age_Senior  Cabin_A  Cabin_B  Cabin_C  Cabin_D  Cabin_E  Cabin_F  Cabin_G  Embarked_C  Embarked_Q  Embarked_S  Title_Dr  Title_Master  Title_Miss  Title_Mr  Title_Mrs  Title_Other\n",
              "0  3       1.981001  0         2           0       0     0          1                0          0                0           0        0        0        0        0        0        1        0           0           1           0         0             0           1         0          0          \n",
              "1  1       4.266662  1         2           0       0     0          0                1          0                0           0        0        1        0        0        0        0        1           0           0           0         0             0           0         1          0          \n",
              "2  3       2.070022  1         1           0       0     0          0                1          0                0           0        0        0        0        0        0        1        0           0           1           0         0             1           0         0          0          \n",
              "3  1       3.972177  1         2           0       0     0          0                1          0                0           0        0        1        0        0        0        0        0           0           1           0         0             0           0         1          0          \n",
              "4  3       2.085672  0         1           0       0     0          0                1          0                0           0        0        0        0        0        0        1        0           0           1           0         0             0           1         0          0          "
            ]
          },
          "metadata": {
            "tags": []
          },
          "execution_count": 31
        }
      ]
    },
    {
      "cell_type": "code",
      "metadata": {
        "id": "FODLuwKanDhH"
      },
      "source": [
        "X = titanic\n",
        "y = X.pop('Survived')"
      ],
      "execution_count": null,
      "outputs": []
    },
    {
      "cell_type": "code",
      "metadata": {
        "id": "Eot-TnDqnDfb"
      },
      "source": [
        "# Train Test Split\n",
        "## Unlike the usual, we split out the first 891 rows for training, and the remainder for testing\n",
        "\n",
        "X_train = X.iloc[:891]\n",
        "y_train = y.iloc[:891]\n",
        "\n",
        "X_test = X.iloc[891:]\n",
        "y_test = y.iloc[891:]"
      ],
      "execution_count": null,
      "outputs": []
    },
    {
      "cell_type": "markdown",
      "metadata": {
        "id": "t5qLbiMhrbiM"
      },
      "source": [
        "# Part 4: Machine Learning"
      ]
    },
    {
      "cell_type": "code",
      "metadata": {
        "id": "Gsm3_TBqnDdK"
      },
      "source": [
        "from sklearn.ensemble import RandomForestClassifier\n",
        "from lightgbm import LGBMClassifier\n",
        "from xgboost import XGBClassifier\n",
        "from sklearn.ensemble.gradient_boosting import GradientBoostingClassifier\n",
        "from sklearn.tree import DecisionTreeClassifier\n",
        "from sklearn.model_selection import StratifiedKFold\n",
        "from sklearn.model_selection import cross_val_score\n",
        "from sklearn.linear_model import LogisticRegression, LogisticRegressionCV\n",
        "from sklearn.metrics import accuracy_score, precision_score, recall_score, f1_score"
      ],
      "execution_count": null,
      "outputs": []
    },
    {
      "cell_type": "code",
      "metadata": {
        "id": "QYJOJOFdnDZn"
      },
      "source": [
        "K_fold = StratifiedKFold(n_splits=10, random_state=42)"
      ],
      "execution_count": null,
      "outputs": []
    },
    {
      "cell_type": "code",
      "metadata": {
        "colab": {
          "base_uri": "https://localhost:8080/"
        },
        "id": "vzBIB9OOnDWo",
        "outputId": "c341e580-311e-4b7a-eee4-a5b4258b2512"
      },
      "source": [
        "# Logistic Regression\n",
        "\n",
        "lr = LogisticRegression()\n",
        "lr.fit(X_train, y_train)\n",
        "\n",
        "y_pred = lr.predict(X_test)\n",
        "print('Accuracy = ', accuracy_score(y_test, y_pred))\n",
        "print('Weighted Precision = ', precision_score(y_test, y_pred, average='weighted'))\n",
        "print('Weighted Recall = ', recall_score(y_test, y_pred, average='weighted'))\n",
        "print('Weighted F1 Score = ', f1_score(y_test, y_pred, average='weighted'))"
      ],
      "execution_count": null,
      "outputs": [
        {
          "output_type": "stream",
          "text": [
            "Accuracy =  0.7703349282296651\n",
            "Weighted Precision =  0.7738289600101728\n",
            "Weighted Recall =  0.7703349282296651\n",
            "Weighted F1 Score =  0.7716363193336877\n"
          ],
          "name": "stdout"
        }
      ]
    },
    {
      "cell_type": "code",
      "metadata": {
        "colab": {
          "base_uri": "https://localhost:8080/"
        },
        "id": "wivCRsM4nDP5",
        "outputId": "b222b46b-dc9b-46fd-8fda-42b199d5b60b"
      },
      "source": [
        "# Decision Tree\n",
        "\n",
        "dt = DecisionTreeClassifier()\n",
        "dt.fit(X_train, y_train)\n",
        "\n",
        "y_pred = dt.predict(X_test)\n",
        "print('Accuracy = ', accuracy_score(y_test, y_pred))\n",
        "print('Weighted Precision = ', precision_score(y_test, y_pred, average='weighted'))\n",
        "print('Weighted Recall = ', recall_score(y_test, y_pred, average='weighted'))\n",
        "print('Weighted F1 Score = ', f1_score(y_test, y_pred, average='weighted'))"
      ],
      "execution_count": null,
      "outputs": [
        {
          "output_type": "stream",
          "text": [
            "Accuracy =  0.7440191387559809\n",
            "Weighted Precision =  0.7443491052584988\n",
            "Weighted Recall =  0.7440191387559809\n",
            "Weighted F1 Score =  0.7441797945687229\n"
          ],
          "name": "stdout"
        }
      ]
    },
    {
      "cell_type": "code",
      "metadata": {
        "colab": {
          "base_uri": "https://localhost:8080/"
        },
        "id": "E_Mp5KtunC0X",
        "outputId": "1e80b2eb-bd96-4ff7-ab55-099af9f843c2"
      },
      "source": [
        "# Gradient Boosting Classifier\n",
        "\n",
        "GB = GradientBoostingClassifier()\n",
        "GB.fit(X_train, y_train)\n",
        "\n",
        "y_pred = GB.predict(X_test)\n",
        "print('Accuracy = ', accuracy_score(y_test, y_pred))\n",
        "print('Weighted Precision = ', precision_score(y_test, y_pred, average='weighted'))\n",
        "print('Weighted Recall = ', recall_score(y_test, y_pred, average='weighted'))\n",
        "print('Weighted F1 Score = ', f1_score(y_test, y_pred, average='weighted'))"
      ],
      "execution_count": null,
      "outputs": [
        {
          "output_type": "stream",
          "text": [
            "Accuracy =  0.7631578947368421\n",
            "Weighted Precision =  0.7648013624918779\n",
            "Weighted Recall =  0.7631578947368421\n",
            "Weighted F1 Score =  0.763868752786388\n"
          ],
          "name": "stdout"
        }
      ]
    },
    {
      "cell_type": "code",
      "metadata": {
        "colab": {
          "base_uri": "https://localhost:8080/"
        },
        "id": "KR3AikBGsdZq",
        "outputId": "9d9b3cd6-9172-487d-b5ec-31f65ce460f0"
      },
      "source": [
        "# XGB Classifier\n",
        "\n",
        "XGB = XGBClassifier()\n",
        "XGB.fit(X_train, y_train)\n",
        "\n",
        "y_pred = XGB.predict(X_test)\n",
        "print('Accuracy = ', accuracy_score(y_test, y_pred))\n",
        "print('Weighted Precision = ', precision_score(y_test, y_pred, average='weighted'))\n",
        "print('Weighted Recall = ', recall_score(y_test, y_pred, average='weighted'))\n",
        "print('Weighted F1 Score = ', f1_score(y_test, y_pred, average='weighted'))"
      ],
      "execution_count": null,
      "outputs": [
        {
          "output_type": "stream",
          "text": [
            "Accuracy =  0.7727272727272727\n",
            "Weighted Precision =  0.7757979971835393\n",
            "Weighted Recall =  0.7727272727272727\n",
            "Weighted F1 Score =  0.7738999906182569\n"
          ],
          "name": "stdout"
        }
      ]
    },
    {
      "cell_type": "code",
      "metadata": {
        "colab": {
          "base_uri": "https://localhost:8080/"
        },
        "id": "NP9GbSp7sdXx",
        "outputId": "06223e9c-bb1f-406b-8857-4fe920a2090b"
      },
      "source": [
        "# Random Forest Classifier\n",
        "\n",
        "RF = RandomForestClassifier()\n",
        "RF.fit(X_train, y_train)\n",
        "\n",
        "y_pred = RF.predict(X_test)\n",
        "print('Accuracy = ', accuracy_score(y_test, y_pred))\n",
        "print('Weighted Precision = ', precision_score(y_test, y_pred, average='weighted'))\n",
        "print('Weighted Recall = ', recall_score(y_test, y_pred, average='weighted'))\n",
        "print('Weighted F1 Score = ', f1_score(y_test, y_pred, average='weighted'))"
      ],
      "execution_count": null,
      "outputs": [
        {
          "output_type": "stream",
          "text": [
            "Accuracy =  0.7535885167464115\n",
            "Weighted Precision =  0.7585560362437923\n",
            "Weighted Recall =  0.7535885167464115\n",
            "Weighted F1 Score =  0.7553398958052423\n"
          ],
          "name": "stdout"
        }
      ]
    },
    {
      "cell_type": "code",
      "metadata": {
        "colab": {
          "base_uri": "https://localhost:8080/"
        },
        "id": "DUpaT90tsdVO",
        "outputId": "7f44a3ab-f2cd-4151-e60f-c8382962fce4"
      },
      "source": [
        "# LGBM Classifier\n",
        "\n",
        "LGBM = LGBMClassifier()\n",
        "LGBM.fit(X_train, y_train)\n",
        "\n",
        "y_pred = LGBM.predict(X_test)\n",
        "print('Accuracy = ', accuracy_score(y_test, y_pred))\n",
        "print('Weighted Precision = ', precision_score(y_test, y_pred, average='weighted'))\n",
        "print('Weighted Recall = ', recall_score(y_test, y_pred, average='weighted'))\n",
        "print('Weighted F1 Score = ', f1_score(y_test, y_pred, average='weighted'))"
      ],
      "execution_count": null,
      "outputs": [
        {
          "output_type": "stream",
          "text": [
            "Accuracy =  0.7488038277511961\n",
            "Weighted Precision =  0.752941672362725\n",
            "Weighted Recall =  0.7488038277511961\n",
            "Weighted F1 Score =  0.7503511628962243\n"
          ],
          "name": "stdout"
        }
      ]
    },
    {
      "cell_type": "markdown",
      "metadata": {
        "id": "VrHGLDb4oeOp"
      },
      "source": [
        "# Part 5: Next Steps"
      ]
    },
    {
      "cell_type": "markdown",
      "metadata": {
        "id": "spXJTlk0oiS4"
      },
      "source": [
        "*   SHAP\n",
        "*   Catboost\n",
        "\n"
      ]
    }
  ]
}